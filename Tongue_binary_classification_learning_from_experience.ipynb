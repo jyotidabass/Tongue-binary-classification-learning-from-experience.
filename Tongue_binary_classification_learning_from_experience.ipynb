{
  "nbformat": 4,
  "nbformat_minor": 0,
  "metadata": {
    "colab": {
      "name": "Tongue-binary-classification-learning-from-experience.ipynb",
      "provenance": [],
      "include_colab_link": true
    },
    "kernelspec": {
      "name": "python3",
      "display_name": "Python 3"
    }
  },
  "cells": [
    {
      "cell_type": "markdown",
      "metadata": {
        "id": "view-in-github",
        "colab_type": "text"
      },
      "source": [
        "<a href=\"https://colab.research.google.com/github/jyotidabass/Tongue-binary-classification-learning-from-experience./blob/main/Tongue_binary_classification_learning_from_experience.ipynb\" target=\"_parent\"><img src=\"https://colab.research.google.com/assets/colab-badge.svg\" alt=\"Open In Colab\"/></a>"
      ]
    },
    {
      "cell_type": "markdown",
      "metadata": {
        "id": "uBajLXYrWBlo"
      },
      "source": [
        "Importing all the required packages"
      ]
    },
    {
      "cell_type": "code",
      "metadata": {
        "id": "VgPd1fjcOKlg"
      },
      "source": [
        "import pandas as pd\n",
        "from sklearn import svm\n",
        "from sklearn.model_selection import GridSearchCV\n",
        "import os\n",
        "import matplotlib.pyplot as plt\n",
        "from skimage.transform import resize\n",
        "from skimage.io import imread\n",
        "import numpy as np\n",
        "from sklearn.model_selection import train_test_split\n",
        "from sklearn.metrics import classification_report,accuracy_score,confusion_matrix\n",
        "import pickle\n",
        "\n"
      ],
      "execution_count": null,
      "outputs": []
    },
    {
      "cell_type": "markdown",
      "metadata": {
        "id": "i8zhtW8yz34D"
      },
      "source": [
        "**NOTE** : Please enter Category Names same as folder name"
      ]
    },
    {
      "cell_type": "code",
      "metadata": {
        "colab": {
          "base_uri": "https://localhost:8080/"
        },
        "id": "umZtNj4CTllG",
        "outputId": "6370390f-65c6-4ec4-e920-6226ef3a5d5e"
      },
      "source": [
        "Categories=['Coated tongue','Non-coated tongue']\n",
        "print(\"Type y to give categories or type n to go with classification of Coated tongue and Non-coated tongue\");\n",
        "\n",
        "while(True):\n",
        "  check=input()\n",
        "  if(check=='n' or check=='y'):\n",
        "    break\n",
        "  print(\"Please give a valid input (y/n)\")\n",
        "if(check=='y'):\n",
        "  print(\"Enter How Many types of Images do you want to classify\")\n",
        "  n=int(input())\n",
        "  Categories=[]\n",
        "  print(f'please enter {n} names')\n",
        "  for i in range(n):\n",
        "    name=input()\n",
        "    Categories.append(name)\n",
        "  print(f\"If not drive Please upload all the {n} category images in google colab with the same names as given in categories\")\n",
        "\n"
      ],
      "execution_count": null,
      "outputs": [
        {
          "output_type": "stream",
          "name": "stdout",
          "text": [
            "Type y to give categories or type n to go with classification of Coated tongue and Non-coated tongue\n",
            "y\n",
            "Enter How Many types of Images do you want to classify\n",
            "2\n",
            "please enter 2 names\n",
            "Coated tongue\n",
            "Non-coated tongue\n",
            "If not drive Please upload all the 2 category images in google collab with the same names as given in categories\n"
          ]
        }
      ]
    },
    {
      "cell_type": "markdown",
      "metadata": {
        "id": "0wwiPscqYune"
      },
      "source": [
        "Loading all the images and creating a DataFrame\n",
        "\n",
        "If you have your images in your google drive, simply mount the google Drive and copy the path of the folder containing all the Category images and Change the datadir variable to that path"
      ]
    },
    {
      "cell_type": "code",
      "metadata": {
        "colab": {
          "base_uri": "https://localhost:8080/",
          "height": 557
        },
        "id": "XdGD-XpMYUjJ",
        "outputId": "5c397658-f4a5-44f6-a551-6efeef812ffb"
      },
      "source": [
        "flat_data_arr=[]\n",
        "target_arr=[]\n",
        "#please use datadir='/content' if the files are upload on to google collab\n",
        "#else mount the drive and give path of the parent-folder containing all category images folders.\n",
        "datadir='/content/drive/MyDrive/TWO-CLASS COATED-UNCOATED/Train'\n",
        "for i in Categories:\n",
        "  print(f'loading... category : {i}')\n",
        "  path=os.path.join(datadir,i)\n",
        "  for img in os.listdir(path):\n",
        "    img_array=imread(os.path.join(path,img))\n",
        "    img_resized=resize(img_array,(150,150,3))\n",
        "    flat_data_arr.append(img_resized.flatten())\n",
        "    target_arr.append(Categories.index(i))\n",
        "  print(f'loaded category:{i} successfully')\n",
        "flat_data=np.array(flat_data_arr)\n",
        "target=np.array(target_arr)\n",
        "df=pd.DataFrame(flat_data)\n",
        "df['Target']=target\n",
        "df"
      ],
      "execution_count": null,
      "outputs": [
        {
          "output_type": "stream",
          "name": "stdout",
          "text": [
            "loading... category : Coated tongue\n",
            "loaded category:Coated tongue successfully\n",
            "loading... category : Non-coated tongue\n",
            "loaded category:Non-coated tongue successfully\n"
          ]
        },
        {
          "output_type": "execute_result",
          "data": {
            "text/plain": [
              "            0         1         2         3         4         5         6  \\\n",
              "0    0.387464  0.274510  0.199229  0.377686  0.256118  0.192157  0.369399   \n",
              "1    0.528680  0.392157  0.301317  0.538773  0.403658  0.313725  0.548580   \n",
              "2    0.637451  0.547255  0.523725  0.649608  0.559412  0.535882  0.657686   \n",
              "3    0.191098  0.112667  0.081294  0.232196  0.149765  0.122299  0.226247   \n",
              "4    0.780871  0.594771  0.505882  0.777190  0.588954  0.502680  0.783725   \n",
              "..        ...       ...       ...       ...       ...       ...       ...   \n",
              "463  0.695830  0.472301  0.429163  0.701712  0.478183  0.435046  0.711124   \n",
              "464  0.058824  0.019608  0.031373  0.058824  0.019608  0.033451  0.058824   \n",
              "465  0.696863  0.583137  0.551765  0.682745  0.569020  0.537647  0.680980   \n",
              "466  0.568627  0.388235  0.329412  0.573647  0.392897  0.334073  0.576902   \n",
              "467  0.184314  0.098039  0.082353  0.180392  0.101961  0.078431  0.176471   \n",
              "\n",
              "            7         8         9  ...     67491     67492     67493  \\\n",
              "0    0.239614  0.188235  0.363834  ...  0.964837  0.433399  0.162412   \n",
              "1    0.411325  0.325490  0.555660  ...  0.599739  0.627451  0.584282   \n",
              "2    0.567490  0.543961  0.662567  ...  0.537255  0.415686  0.333333   \n",
              "3    0.136051  0.107204  0.220039  ...  0.556914  0.371204  0.270639   \n",
              "4    0.595490  0.513137  0.792876  ...  0.269281  0.309804  0.317647   \n",
              "..        ...       ...       ...  ...       ...       ...       ...   \n",
              "463  0.487595  0.444458  0.714122  ...  0.400000  0.363386  0.343778   \n",
              "464  0.015686  0.031373  0.058824  ...  0.725339  0.616385  0.610344   \n",
              "465  0.564706  0.533333  0.669804  ...  0.310980  0.389412  0.416275   \n",
              "466  0.396510  0.337686  0.578391  ...  0.757120  0.761041  0.729669   \n",
              "467  0.101961  0.078431  0.166222  ...  0.520026  0.488687  0.394046   \n",
              "\n",
              "        67494     67495     67496     67497     67498     67499  Target  \n",
              "0    0.980392  0.454902  0.173268  0.964706  0.435294  0.112629       0  \n",
              "1    0.593882  0.623529  0.580392  0.592157  0.624000  0.583931       0  \n",
              "2    0.544889  0.419608  0.337255  0.545098  0.423529  0.341176       0  \n",
              "3    0.549765  0.368627  0.270588  0.549041  0.369744  0.266745       0  \n",
              "4    0.236013  0.275229  0.283072  0.252527  0.289368  0.299346       0  \n",
              "..        ...       ...       ...       ...       ...       ...     ...  \n",
              "463  0.412157  0.375542  0.355935  0.422745  0.386131  0.366523       1  \n",
              "464  0.761888  0.652084  0.648163  0.755333  0.645529  0.637686       1  \n",
              "465  0.321961  0.402235  0.432157  0.287882  0.377255  0.408627       1  \n",
              "466  0.756701  0.760622  0.729250  0.760118  0.764039  0.732667       1  \n",
              "467  0.502153  0.474702  0.364928  0.526639  0.499188  0.385463       1  \n",
              "\n",
              "[468 rows x 67501 columns]"
            ],
            "text/html": [
              "\n",
              "  <div id=\"df-a31453b7-a6ad-471a-adc7-5e28da1b1095\">\n",
              "    <div class=\"colab-df-container\">\n",
              "      <div>\n",
              "<style scoped>\n",
              "    .dataframe tbody tr th:only-of-type {\n",
              "        vertical-align: middle;\n",
              "    }\n",
              "\n",
              "    .dataframe tbody tr th {\n",
              "        vertical-align: top;\n",
              "    }\n",
              "\n",
              "    .dataframe thead th {\n",
              "        text-align: right;\n",
              "    }\n",
              "</style>\n",
              "<table border=\"1\" class=\"dataframe\">\n",
              "  <thead>\n",
              "    <tr style=\"text-align: right;\">\n",
              "      <th></th>\n",
              "      <th>0</th>\n",
              "      <th>1</th>\n",
              "      <th>2</th>\n",
              "      <th>3</th>\n",
              "      <th>4</th>\n",
              "      <th>5</th>\n",
              "      <th>6</th>\n",
              "      <th>7</th>\n",
              "      <th>8</th>\n",
              "      <th>9</th>\n",
              "      <th>...</th>\n",
              "      <th>67491</th>\n",
              "      <th>67492</th>\n",
              "      <th>67493</th>\n",
              "      <th>67494</th>\n",
              "      <th>67495</th>\n",
              "      <th>67496</th>\n",
              "      <th>67497</th>\n",
              "      <th>67498</th>\n",
              "      <th>67499</th>\n",
              "      <th>Target</th>\n",
              "    </tr>\n",
              "  </thead>\n",
              "  <tbody>\n",
              "    <tr>\n",
              "      <th>0</th>\n",
              "      <td>0.387464</td>\n",
              "      <td>0.274510</td>\n",
              "      <td>0.199229</td>\n",
              "      <td>0.377686</td>\n",
              "      <td>0.256118</td>\n",
              "      <td>0.192157</td>\n",
              "      <td>0.369399</td>\n",
              "      <td>0.239614</td>\n",
              "      <td>0.188235</td>\n",
              "      <td>0.363834</td>\n",
              "      <td>...</td>\n",
              "      <td>0.964837</td>\n",
              "      <td>0.433399</td>\n",
              "      <td>0.162412</td>\n",
              "      <td>0.980392</td>\n",
              "      <td>0.454902</td>\n",
              "      <td>0.173268</td>\n",
              "      <td>0.964706</td>\n",
              "      <td>0.435294</td>\n",
              "      <td>0.112629</td>\n",
              "      <td>0</td>\n",
              "    </tr>\n",
              "    <tr>\n",
              "      <th>1</th>\n",
              "      <td>0.528680</td>\n",
              "      <td>0.392157</td>\n",
              "      <td>0.301317</td>\n",
              "      <td>0.538773</td>\n",
              "      <td>0.403658</td>\n",
              "      <td>0.313725</td>\n",
              "      <td>0.548580</td>\n",
              "      <td>0.411325</td>\n",
              "      <td>0.325490</td>\n",
              "      <td>0.555660</td>\n",
              "      <td>...</td>\n",
              "      <td>0.599739</td>\n",
              "      <td>0.627451</td>\n",
              "      <td>0.584282</td>\n",
              "      <td>0.593882</td>\n",
              "      <td>0.623529</td>\n",
              "      <td>0.580392</td>\n",
              "      <td>0.592157</td>\n",
              "      <td>0.624000</td>\n",
              "      <td>0.583931</td>\n",
              "      <td>0</td>\n",
              "    </tr>\n",
              "    <tr>\n",
              "      <th>2</th>\n",
              "      <td>0.637451</td>\n",
              "      <td>0.547255</td>\n",
              "      <td>0.523725</td>\n",
              "      <td>0.649608</td>\n",
              "      <td>0.559412</td>\n",
              "      <td>0.535882</td>\n",
              "      <td>0.657686</td>\n",
              "      <td>0.567490</td>\n",
              "      <td>0.543961</td>\n",
              "      <td>0.662567</td>\n",
              "      <td>...</td>\n",
              "      <td>0.537255</td>\n",
              "      <td>0.415686</td>\n",
              "      <td>0.333333</td>\n",
              "      <td>0.544889</td>\n",
              "      <td>0.419608</td>\n",
              "      <td>0.337255</td>\n",
              "      <td>0.545098</td>\n",
              "      <td>0.423529</td>\n",
              "      <td>0.341176</td>\n",
              "      <td>0</td>\n",
              "    </tr>\n",
              "    <tr>\n",
              "      <th>3</th>\n",
              "      <td>0.191098</td>\n",
              "      <td>0.112667</td>\n",
              "      <td>0.081294</td>\n",
              "      <td>0.232196</td>\n",
              "      <td>0.149765</td>\n",
              "      <td>0.122299</td>\n",
              "      <td>0.226247</td>\n",
              "      <td>0.136051</td>\n",
              "      <td>0.107204</td>\n",
              "      <td>0.220039</td>\n",
              "      <td>...</td>\n",
              "      <td>0.556914</td>\n",
              "      <td>0.371204</td>\n",
              "      <td>0.270639</td>\n",
              "      <td>0.549765</td>\n",
              "      <td>0.368627</td>\n",
              "      <td>0.270588</td>\n",
              "      <td>0.549041</td>\n",
              "      <td>0.369744</td>\n",
              "      <td>0.266745</td>\n",
              "      <td>0</td>\n",
              "    </tr>\n",
              "    <tr>\n",
              "      <th>4</th>\n",
              "      <td>0.780871</td>\n",
              "      <td>0.594771</td>\n",
              "      <td>0.505882</td>\n",
              "      <td>0.777190</td>\n",
              "      <td>0.588954</td>\n",
              "      <td>0.502680</td>\n",
              "      <td>0.783725</td>\n",
              "      <td>0.595490</td>\n",
              "      <td>0.513137</td>\n",
              "      <td>0.792876</td>\n",
              "      <td>...</td>\n",
              "      <td>0.269281</td>\n",
              "      <td>0.309804</td>\n",
              "      <td>0.317647</td>\n",
              "      <td>0.236013</td>\n",
              "      <td>0.275229</td>\n",
              "      <td>0.283072</td>\n",
              "      <td>0.252527</td>\n",
              "      <td>0.289368</td>\n",
              "      <td>0.299346</td>\n",
              "      <td>0</td>\n",
              "    </tr>\n",
              "    <tr>\n",
              "      <th>...</th>\n",
              "      <td>...</td>\n",
              "      <td>...</td>\n",
              "      <td>...</td>\n",
              "      <td>...</td>\n",
              "      <td>...</td>\n",
              "      <td>...</td>\n",
              "      <td>...</td>\n",
              "      <td>...</td>\n",
              "      <td>...</td>\n",
              "      <td>...</td>\n",
              "      <td>...</td>\n",
              "      <td>...</td>\n",
              "      <td>...</td>\n",
              "      <td>...</td>\n",
              "      <td>...</td>\n",
              "      <td>...</td>\n",
              "      <td>...</td>\n",
              "      <td>...</td>\n",
              "      <td>...</td>\n",
              "      <td>...</td>\n",
              "      <td>...</td>\n",
              "    </tr>\n",
              "    <tr>\n",
              "      <th>463</th>\n",
              "      <td>0.695830</td>\n",
              "      <td>0.472301</td>\n",
              "      <td>0.429163</td>\n",
              "      <td>0.701712</td>\n",
              "      <td>0.478183</td>\n",
              "      <td>0.435046</td>\n",
              "      <td>0.711124</td>\n",
              "      <td>0.487595</td>\n",
              "      <td>0.444458</td>\n",
              "      <td>0.714122</td>\n",
              "      <td>...</td>\n",
              "      <td>0.400000</td>\n",
              "      <td>0.363386</td>\n",
              "      <td>0.343778</td>\n",
              "      <td>0.412157</td>\n",
              "      <td>0.375542</td>\n",
              "      <td>0.355935</td>\n",
              "      <td>0.422745</td>\n",
              "      <td>0.386131</td>\n",
              "      <td>0.366523</td>\n",
              "      <td>1</td>\n",
              "    </tr>\n",
              "    <tr>\n",
              "      <th>464</th>\n",
              "      <td>0.058824</td>\n",
              "      <td>0.019608</td>\n",
              "      <td>0.031373</td>\n",
              "      <td>0.058824</td>\n",
              "      <td>0.019608</td>\n",
              "      <td>0.033451</td>\n",
              "      <td>0.058824</td>\n",
              "      <td>0.015686</td>\n",
              "      <td>0.031373</td>\n",
              "      <td>0.058824</td>\n",
              "      <td>...</td>\n",
              "      <td>0.725339</td>\n",
              "      <td>0.616385</td>\n",
              "      <td>0.610344</td>\n",
              "      <td>0.761888</td>\n",
              "      <td>0.652084</td>\n",
              "      <td>0.648163</td>\n",
              "      <td>0.755333</td>\n",
              "      <td>0.645529</td>\n",
              "      <td>0.637686</td>\n",
              "      <td>1</td>\n",
              "    </tr>\n",
              "    <tr>\n",
              "      <th>465</th>\n",
              "      <td>0.696863</td>\n",
              "      <td>0.583137</td>\n",
              "      <td>0.551765</td>\n",
              "      <td>0.682745</td>\n",
              "      <td>0.569020</td>\n",
              "      <td>0.537647</td>\n",
              "      <td>0.680980</td>\n",
              "      <td>0.564706</td>\n",
              "      <td>0.533333</td>\n",
              "      <td>0.669804</td>\n",
              "      <td>...</td>\n",
              "      <td>0.310980</td>\n",
              "      <td>0.389412</td>\n",
              "      <td>0.416275</td>\n",
              "      <td>0.321961</td>\n",
              "      <td>0.402235</td>\n",
              "      <td>0.432157</td>\n",
              "      <td>0.287882</td>\n",
              "      <td>0.377255</td>\n",
              "      <td>0.408627</td>\n",
              "      <td>1</td>\n",
              "    </tr>\n",
              "    <tr>\n",
              "      <th>466</th>\n",
              "      <td>0.568627</td>\n",
              "      <td>0.388235</td>\n",
              "      <td>0.329412</td>\n",
              "      <td>0.573647</td>\n",
              "      <td>0.392897</td>\n",
              "      <td>0.334073</td>\n",
              "      <td>0.576902</td>\n",
              "      <td>0.396510</td>\n",
              "      <td>0.337686</td>\n",
              "      <td>0.578391</td>\n",
              "      <td>...</td>\n",
              "      <td>0.757120</td>\n",
              "      <td>0.761041</td>\n",
              "      <td>0.729669</td>\n",
              "      <td>0.756701</td>\n",
              "      <td>0.760622</td>\n",
              "      <td>0.729250</td>\n",
              "      <td>0.760118</td>\n",
              "      <td>0.764039</td>\n",
              "      <td>0.732667</td>\n",
              "      <td>1</td>\n",
              "    </tr>\n",
              "    <tr>\n",
              "      <th>467</th>\n",
              "      <td>0.184314</td>\n",
              "      <td>0.098039</td>\n",
              "      <td>0.082353</td>\n",
              "      <td>0.180392</td>\n",
              "      <td>0.101961</td>\n",
              "      <td>0.078431</td>\n",
              "      <td>0.176471</td>\n",
              "      <td>0.101961</td>\n",
              "      <td>0.078431</td>\n",
              "      <td>0.166222</td>\n",
              "      <td>...</td>\n",
              "      <td>0.520026</td>\n",
              "      <td>0.488687</td>\n",
              "      <td>0.394046</td>\n",
              "      <td>0.502153</td>\n",
              "      <td>0.474702</td>\n",
              "      <td>0.364928</td>\n",
              "      <td>0.526639</td>\n",
              "      <td>0.499188</td>\n",
              "      <td>0.385463</td>\n",
              "      <td>1</td>\n",
              "    </tr>\n",
              "  </tbody>\n",
              "</table>\n",
              "<p>468 rows × 67501 columns</p>\n",
              "</div>\n",
              "      <button class=\"colab-df-convert\" onclick=\"convertToInteractive('df-a31453b7-a6ad-471a-adc7-5e28da1b1095')\"\n",
              "              title=\"Convert this dataframe to an interactive table.\"\n",
              "              style=\"display:none;\">\n",
              "        \n",
              "  <svg xmlns=\"http://www.w3.org/2000/svg\" height=\"24px\"viewBox=\"0 0 24 24\"\n",
              "       width=\"24px\">\n",
              "    <path d=\"M0 0h24v24H0V0z\" fill=\"none\"/>\n",
              "    <path d=\"M18.56 5.44l.94 2.06.94-2.06 2.06-.94-2.06-.94-.94-2.06-.94 2.06-2.06.94zm-11 1L8.5 8.5l.94-2.06 2.06-.94-2.06-.94L8.5 2.5l-.94 2.06-2.06.94zm10 10l.94 2.06.94-2.06 2.06-.94-2.06-.94-.94-2.06-.94 2.06-2.06.94z\"/><path d=\"M17.41 7.96l-1.37-1.37c-.4-.4-.92-.59-1.43-.59-.52 0-1.04.2-1.43.59L10.3 9.45l-7.72 7.72c-.78.78-.78 2.05 0 2.83L4 21.41c.39.39.9.59 1.41.59.51 0 1.02-.2 1.41-.59l7.78-7.78 2.81-2.81c.8-.78.8-2.07 0-2.86zM5.41 20L4 18.59l7.72-7.72 1.47 1.35L5.41 20z\"/>\n",
              "  </svg>\n",
              "      </button>\n",
              "      \n",
              "  <style>\n",
              "    .colab-df-container {\n",
              "      display:flex;\n",
              "      flex-wrap:wrap;\n",
              "      gap: 12px;\n",
              "    }\n",
              "\n",
              "    .colab-df-convert {\n",
              "      background-color: #E8F0FE;\n",
              "      border: none;\n",
              "      border-radius: 50%;\n",
              "      cursor: pointer;\n",
              "      display: none;\n",
              "      fill: #1967D2;\n",
              "      height: 32px;\n",
              "      padding: 0 0 0 0;\n",
              "      width: 32px;\n",
              "    }\n",
              "\n",
              "    .colab-df-convert:hover {\n",
              "      background-color: #E2EBFA;\n",
              "      box-shadow: 0px 1px 2px rgba(60, 64, 67, 0.3), 0px 1px 3px 1px rgba(60, 64, 67, 0.15);\n",
              "      fill: #174EA6;\n",
              "    }\n",
              "\n",
              "    [theme=dark] .colab-df-convert {\n",
              "      background-color: #3B4455;\n",
              "      fill: #D2E3FC;\n",
              "    }\n",
              "\n",
              "    [theme=dark] .colab-df-convert:hover {\n",
              "      background-color: #434B5C;\n",
              "      box-shadow: 0px 1px 3px 1px rgba(0, 0, 0, 0.15);\n",
              "      filter: drop-shadow(0px 1px 2px rgba(0, 0, 0, 0.3));\n",
              "      fill: #FFFFFF;\n",
              "    }\n",
              "  </style>\n",
              "\n",
              "      <script>\n",
              "        const buttonEl =\n",
              "          document.querySelector('#df-a31453b7-a6ad-471a-adc7-5e28da1b1095 button.colab-df-convert');\n",
              "        buttonEl.style.display =\n",
              "          google.colab.kernel.accessAllowed ? 'block' : 'none';\n",
              "\n",
              "        async function convertToInteractive(key) {\n",
              "          const element = document.querySelector('#df-a31453b7-a6ad-471a-adc7-5e28da1b1095');\n",
              "          const dataTable =\n",
              "            await google.colab.kernel.invokeFunction('convertToInteractive',\n",
              "                                                     [key], {});\n",
              "          if (!dataTable) return;\n",
              "\n",
              "          const docLinkHtml = 'Like what you see? Visit the ' +\n",
              "            '<a target=\"_blank\" href=https://colab.research.google.com/notebooks/data_table.ipynb>data table notebook</a>'\n",
              "            + ' to learn more about interactive tables.';\n",
              "          element.innerHTML = '';\n",
              "          dataTable['output_type'] = 'display_data';\n",
              "          await google.colab.output.renderOutput(dataTable, element);\n",
              "          const docLink = document.createElement('div');\n",
              "          docLink.innerHTML = docLinkHtml;\n",
              "          element.appendChild(docLink);\n",
              "        }\n",
              "      </script>\n",
              "    </div>\n",
              "  </div>\n",
              "  "
            ]
          },
          "metadata": {},
          "execution_count": 10
        }
      ]
    },
    {
      "cell_type": "code",
      "source": [
        "from google.colab import drive\n",
        "drive.mount('/content/drive')"
      ],
      "metadata": {
        "id": "YZ_TkJ8L8yj_",
        "outputId": "1add9718-2742-48d7-e329-a69f9c60b565",
        "colab": {
          "base_uri": "https://localhost:8080/"
        }
      },
      "execution_count": null,
      "outputs": [
        {
          "output_type": "stream",
          "name": "stdout",
          "text": [
            "Mounted at /content/drive\n"
          ]
        }
      ]
    },
    {
      "cell_type": "markdown",
      "metadata": {
        "id": "gUp5FDqIY070"
      },
      "source": [
        "Splitting the data into training and testing data"
      ]
    },
    {
      "cell_type": "code",
      "metadata": {
        "colab": {
          "base_uri": "https://localhost:8080/"
        },
        "id": "Jg3XHRP3OUyf",
        "outputId": "6033fffb-a549-48e6-f694-ccb03e5b4310"
      },
      "source": [
        "x=df.iloc[:,:-1]\n",
        "y=df.iloc[:,-1]\n",
        "x_train,x_test,y_train,y_test=train_test_split(x,y,test_size=0.20,random_state=77,stratify=y)\n",
        "print('Splitted Successfully')"
      ],
      "execution_count": null,
      "outputs": [
        {
          "output_type": "stream",
          "name": "stdout",
          "text": [
            "Splitted Successfully\n"
          ]
        }
      ]
    },
    {
      "cell_type": "markdown",
      "metadata": {
        "id": "YMmSZWDJY_eE"
      },
      "source": [
        "This Part of code may take a while for training the data using SVC model"
      ]
    },
    {
      "cell_type": "code",
      "metadata": {
        "colab": {
          "base_uri": "https://localhost:8080/"
        },
        "id": "DIaIT2GlOvy6",
        "outputId": "105b1aa2-5869-4b1e-c80f-691ee4940525"
      },
      "source": [
        "param_grid={'C':[0.1,1,10,100],'gamma':[0.0001,0.001,0.1,1],'kernel':['rbf','poly']}\n",
        "svc=svm.SVC(probability=True)\n",
        "print(\"The training of the model is started, please wait for while as it may take few minutes to complete\")\n",
        "model=GridSearchCV(svc,param_grid)\n",
        "model.fit(x_train,y_train)\n",
        "print('The Model is trained well with the given images')\n",
        "model.best_params_"
      ],
      "execution_count": null,
      "outputs": [
        {
          "output_type": "stream",
          "name": "stdout",
          "text": [
            "The training of the model is started, please wait for while as it may take few minutes to complete\n",
            "The Model is trained well with the given images\n"
          ]
        },
        {
          "output_type": "execute_result",
          "data": {
            "text/plain": [
              "{'C': 1, 'gamma': 0.0001, 'kernel': 'rbf'}"
            ]
          },
          "metadata": {},
          "execution_count": 12
        }
      ]
    },
    {
      "cell_type": "markdown",
      "metadata": {
        "id": "VWKN2_4eZZmF"
      },
      "source": [
        "Predicting our testing data"
      ]
    },
    {
      "cell_type": "code",
      "metadata": {
        "colab": {
          "base_uri": "https://localhost:8080/"
        },
        "id": "h7qEbNLoSAcS",
        "outputId": "c4821910-795f-47e0-85b4-de8da3c18611"
      },
      "source": [
        "y_pred=model.predict(x_test)\n",
        "print(\"The predicted Data is :\")\n",
        "y_pred"
      ],
      "execution_count": null,
      "outputs": [
        {
          "output_type": "stream",
          "name": "stdout",
          "text": [
            "The predicted Data is :\n"
          ]
        },
        {
          "output_type": "execute_result",
          "data": {
            "text/plain": [
              "array([1, 1, 0, 1, 0, 1, 1, 0, 1, 1, 1, 1, 1, 0, 1, 0, 0, 1, 0, 0, 0, 0,\n",
              "       1, 1, 0, 1, 0, 0, 0, 0, 0, 1, 0, 0, 0, 1, 1, 0, 0, 0, 0, 0, 1, 1,\n",
              "       1, 1, 1, 0, 0, 0, 0, 1, 0, 1, 0, 1, 1, 1, 0, 0, 1, 0, 1, 0, 0, 0,\n",
              "       1, 0, 1, 1, 0, 0, 1, 1, 0, 1, 0, 1, 0, 1, 1, 1, 1, 1, 0, 1, 1, 1,\n",
              "       0, 0, 1, 0, 0, 1])"
            ]
          },
          "metadata": {},
          "execution_count": 13
        }
      ]
    },
    {
      "cell_type": "code",
      "metadata": {
        "colab": {
          "base_uri": "https://localhost:8080/"
        },
        "id": "A4rMJQ0HSCgU",
        "outputId": "750e434d-df89-4de7-88af-0c22576ebeee"
      },
      "source": [
        "print(\"The actual data is:\")\n",
        "np.array(y_test)"
      ],
      "execution_count": null,
      "outputs": [
        {
          "output_type": "stream",
          "name": "stdout",
          "text": [
            "The actual data is:\n"
          ]
        },
        {
          "output_type": "execute_result",
          "data": {
            "text/plain": [
              "array([1, 1, 1, 0, 0, 1, 1, 0, 0, 0, 0, 0, 1, 1, 0, 0, 1, 1, 0, 0, 0, 1,\n",
              "       0, 0, 1, 0, 0, 1, 0, 0, 0, 1, 0, 1, 1, 1, 1, 1, 1, 0, 1, 1, 1, 1,\n",
              "       0, 0, 1, 0, 0, 1, 0, 1, 1, 1, 0, 1, 0, 1, 0, 1, 1, 1, 1, 0, 1, 0,\n",
              "       1, 0, 0, 1, 1, 1, 1, 1, 0, 0, 0, 0, 0, 1, 0, 1, 0, 0, 0, 0, 0, 0,\n",
              "       1, 1, 1, 1, 0, 0])"
            ]
          },
          "metadata": {},
          "execution_count": 14
        }
      ]
    },
    {
      "cell_type": "code",
      "metadata": {
        "colab": {
          "base_uri": "https://localhost:8080/"
        },
        "id": "ZwXKKc5FSFMf",
        "outputId": "e168fc85-f6d5-49a1-af80-d73140f0c977"
      },
      "source": [
        "#classification_report(y_pred,y_test)\n",
        "print(f\"The model is {accuracy_score(y_pred,y_test)*100}% accurate\")\n",
        "#confusion_matrix(y_pred,y_test)"
      ],
      "execution_count": null,
      "outputs": [
        {
          "output_type": "stream",
          "name": "stdout",
          "text": [
            "The model is 53.191489361702125% accurate\n"
          ]
        }
      ]
    },
    {
      "cell_type": "markdown",
      "metadata": {
        "id": "B8rpwj-yX4hl"
      },
      "source": [
        "Using Pickle to save the model to disk"
      ]
    },
    {
      "cell_type": "code",
      "metadata": {
        "colab": {
          "base_uri": "https://localhost:8080/"
        },
        "id": "Jf8xp5BYp_7E",
        "outputId": "e9fcf65c-157d-4e91-8d2e-cb71001d49b1"
      },
      "source": [
        "pickle.dump(model,open('img_model.p','wb'))\n",
        "print(\"Pickle is dumped successfully\")"
      ],
      "execution_count": null,
      "outputs": [
        {
          "output_type": "stream",
          "name": "stdout",
          "text": [
            "Pickle is dumped successfully\n"
          ]
        }
      ]
    },
    {
      "cell_type": "markdown",
      "metadata": {
        "id": "D5j6KOPCZ8av"
      },
      "source": [
        "The Machine-Learning Based Model is Created Successfully. Now You can test for classification of any image which falls in the mentioned Categories\n",
        "\n",
        "Testing of model :"
      ]
    },
    {
      "cell_type": "code",
      "metadata": {
        "id": "6MVmsPLdS6-X",
        "colab": {
          "base_uri": "https://localhost:8080/",
          "height": 411
        },
        "outputId": "f0855c38-a5a3-4b71-9938-e3c171dd2a8c"
      },
      "source": [
        "#print(os.path.abspath(os.getcwd()))\n",
        "model=pickle.load(open('img_model.p','rb'))\n",
        "\n",
        "url=input('Enter URL of Image')\n",
        "img=imread(url)\n",
        "plt.imshow(img)\n",
        "plt.show()\n",
        "img_resize=resize(img,(150,150,3))\n",
        "l=[img_resize.flatten()]\n",
        "probability=model.predict_proba(l)\n",
        "for ind,val in enumerate(Categories):\n",
        "  print(f'{val} = {probability[0][ind]*100}%')\n",
        "print(\"The predicted image is : \"+Categories[model.predict(l)[0]])\n",
        "print(f'Is the image a {Categories[model.predict(l)[0]]} ?(y/n)')\n",
        "while(True):\n",
        "  b=input()\n",
        "  if(b==\"y\" or b==\"n\"):\n",
        "    break\n",
        "  print(\"please enter either y or n\")\n",
        "\n",
        "if(b=='n'):\n",
        "  print(\"What is the image?\")\n",
        "  for i in range(len(Categories)):\n",
        "    print(f\"Enter {i} for {Categories[i]}\")\n",
        "  k=int(input())\n",
        "  while(k<0 or k>=len(Categories)):\n",
        "    print(f\"Please enter a valid number between 0-{len(Categories)-1}\")\n",
        "    k=int(input())\n",
        "  print(\"Please wait for a while for the model to learn from this image :)\")\n",
        "  flat_arr=flat_data_arr.copy()\n",
        "  tar_arr=target_arr.copy()\n",
        "  tar_arr.append(k)\n",
        "  flat_arr.extend(l)\n",
        "  tar_arr=np.array(tar_arr)\n",
        "  flat_df=np.array(flat_arr)\n",
        "  df1=pd.DataFrame(flat_df)\n",
        "  df1['Target']=tar_arr\n",
        "  model1=GridSearchCV(svc,param_grid)\n",
        "  x1=df1.iloc[:,:-1]\n",
        "  y1=df1.iloc[:,-1]\n",
        "  x_train1,x_test1,y_train1,y_test1=train_test_split(x1,y1,test_size=0.20,random_state=77,stratify=y1)\n",
        "  d={}\n",
        "  for i in model.best_params_:\n",
        "    d[i]=[model.best_params_[i]]\n",
        "  model1=GridSearchCV(svc,d)\n",
        "  model1.fit(x_train1,y_train1)\n",
        "  y_pred1=model.predict(x_test1)\n",
        "  print(f\"The model is now {accuracy_score(y_pred1,y_test1)*100}% accurate\")\n",
        "  pickle.dump(model1,open('img_model.p','wb'))\n",
        "print(\"Thank you for your feedback\")\n"
      ],
      "execution_count": null,
      "outputs": [
        {
          "name": "stdout",
          "output_type": "stream",
          "text": [
            "Enter URL of Image/content/drive/MyDrive/TWO-CLASS COATED-UNCOATED/Train/Coated tongue/16305812861725004033431300973848 - kishan kumar.jpg\n"
          ]
        },
        {
          "output_type": "display_data",
          "data": {
            "text/plain": [
              "<Figure size 432x288 with 1 Axes>"
            ],
            "image/png": "[encoded data removed]"
          },
          "metadata": {
            "needs_background": "light"
          }
        },
        {
          "output_type": "stream",
          "name": "stdout",
          "text": [
            "Coated tongue = 53.10058887016885%\n",
            "Non-coated tongue = 46.899411129831144%\n",
            "The predicted image is : Coated tongue\n",
            "Is the image a Coated tongue ?(y/n)\n",
            "y\n",
            "Thank you for your feedback\n"
          ]
        }
      ]
    },
    {
      "cell_type": "markdown",
      "metadata": {
        "id": "fJ_t-zqIsTCA"
      },
      "source": [
        "This model learns from its mistake and rectifies them and does not repeat the same mistake again ;)"
      ]
    }
  ]
}